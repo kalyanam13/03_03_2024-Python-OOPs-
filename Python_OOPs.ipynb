{
 "cells": [
  {
   "cell_type": "code",
   "execution_count": 17,
   "id": "1d97d302-f78b-4315-b890-5768f9ede8a9",
   "metadata": {},
   "outputs": [
    {
     "name": "stdout",
     "output_type": "stream",
     "text": [
      "Python Programming\n",
      "Kalyan\n",
      "1\n",
      "1 Python Programming\n",
      "Course ID : 1\n",
      "Course Name : Python Programming\n",
      "Instructor Name : Kalyan\n",
      "Pritam\n",
      "7\n",
      "Course ID : 1\n",
      "Course Name : Python Programming\n",
      "Instructor Name : Kalyan\n",
      " Student ID : 7\n",
      " Student Name : Pritam\n",
      "\n"
     ]
    }
   ],
   "source": [
    "class Kalyanam_Chakrawarty :\n",
    "    ## initialization\n",
    "    def __init__(self , courseID , courseName , instructorName ):\n",
    "        self.courseId = courseID\n",
    "        self.course_Name = courseName\n",
    "        self.instructor = instructorName\n",
    "        \n",
    "    ## user defined functions to get the course details  \n",
    "    def course_details(self):\n",
    "        return f\"{self.courseId} {self.course_Name}\"\n",
    "    \n",
    "    ## polymorphism\n",
    "    ## to display the complete data\n",
    "    def display_details(self):\n",
    "        details = \"Course ID : {}\\nCourse Name : {}\\nInstructor Name : {}\".format(self.courseId , self.course_Name , self.instructor)\n",
    "        return details \n",
    "    \n",
    "## Inheritance\n",
    "## Learners : Defined Class\n",
    "## Kalyanam_Chakrawarty : Parent Class\n",
    "\n",
    "class Learners(Kalyanam_Chakrawarty):\n",
    "    ## initialization\n",
    "    def __init__(self ,  courseID , courseName , instructorName , studentID , studentName):\n",
    "        super().__init__(courseID , courseName , instructorName)\n",
    "        self.studentID = studentID\n",
    "        self.student_Name = studentName\n",
    "    \n",
    "    ## Polymorphism\n",
    "    ## to display the complete data\n",
    "    def display_details(self):\n",
    "        parent_details = super().display_details()\n",
    "        details = \"{}\\n Student ID : {}\\n Student Name : {}\\n\".format(parent_details , self.studentID , self.student_Name)\n",
    "        return details\n",
    "        \n",
    "## objects of Kalyanam_Chakrawarty class\n",
    "kalyanam = Kalyanam_Chakrawarty( 1 , \"Python Programming\" , \"Kalyan\")\n",
    "print(kalyanam.course_Name)\n",
    "print(kalyanam.instructor)\n",
    "print(kalyanam.courseId)\n",
    "print(kalyanam.course_details())\n",
    "print(kalyanam.display_details())\n",
    "\n",
    "## object of Learners Class\n",
    "enrolledLearner = Learners(1 , \"Python Programming\" , \"Kalyan\" , 7 , \"Pritam\")\n",
    "print(enrolledLearner.student_Name)\n",
    "print(enrolledLearner.studentID)\n",
    "print(enrolledLearner.display_details())"
   ]
  },
  {
   "cell_type": "code",
   "execution_count": null,
   "id": "2c01b573-86f2-4d33-b7c2-45df464e12e4",
   "metadata": {},
   "outputs": [],
   "source": []
  },
  {
   "cell_type": "code",
   "execution_count": null,
   "id": "52fb6e82-33f8-4291-8ede-bcd3690141f6",
   "metadata": {},
   "outputs": [],
   "source": []
  },
  {
   "cell_type": "code",
   "execution_count": null,
   "id": "0e11ce92-de5c-483c-99bd-de67e888dfda",
   "metadata": {},
   "outputs": [],
   "source": []
  },
  {
   "cell_type": "code",
   "execution_count": null,
   "id": "b5894332-7306-4e28-a8b2-00baa2065a8a",
   "metadata": {},
   "outputs": [],
   "source": []
  }
 ],
 "metadata": {
  "kernelspec": {
   "display_name": "Python 3 (ipykernel)",
   "language": "python",
   "name": "python3"
  },
  "language_info": {
   "codemirror_mode": {
    "name": "ipython",
    "version": 3
   },
   "file_extension": ".py",
   "mimetype": "text/x-python",
   "name": "python",
   "nbconvert_exporter": "python",
   "pygments_lexer": "ipython3",
   "version": "3.10.8"
  }
 },
 "nbformat": 4,
 "nbformat_minor": 5
}
